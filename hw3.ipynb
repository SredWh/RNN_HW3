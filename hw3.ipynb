{
 "cells": [
  {
   "cell_type": "code",
   "execution_count": 1,
   "id": "efa5a567",
   "metadata": {},
   "outputs": [],
   "source": [
    "# dataset\n",
    "def read_ner_txt(path, test_mode=False):\n",
    "    with open(path, 'r', encoding='utf-8') as f:\n",
    "        text = [i.strip() for i in f.readlines()]\n",
    "    \n",
    "    tokens_list = []\n",
    "    ner_tags_list = []\n",
    "    temp_vocab = ''\n",
    "    temp_label = ''\n",
    "\n",
    "    if test_mode:\n",
    "        print('test mode')\n",
    "        for item in text:\n",
    "            if item == '.' or item == '':\n",
    "                if item == '.':\n",
    "                    temp_vocab += ' ' + item\n",
    "                    temp_label += ' ' + 'O'\n",
    "                tokens_list.append(temp_vocab.strip())\n",
    "                ner_tags_list.append(temp_label.strip())\n",
    "                temp_vocab = ''\n",
    "                temp_label = ''\n",
    "            else:\n",
    "                temp_vocab += ' ' + item\n",
    "                temp_label += ' ' + 'O'\n",
    "        return tokens_list, ner_tags_list\n",
    "\n",
    "    else:  # 讀訓練資料\n",
    "        for item in text:\n",
    "            if item == '':\n",
    "                tokens_list.append(temp_vocab.strip())\n",
    "                ner_tags_list.append(temp_label.strip())\n",
    "                temp_vocab = ''\n",
    "                temp_label = ''\n",
    "            else:\n",
    "                parts = item.split()\n",
    "                if len(parts) < 2:\n",
    "                    continue  # 安全跳過不完整的資料行\n",
    "                vocab = parts[0]\n",
    "                label = parts[1]\n",
    "\n",
    "                temp_vocab += ' ' + vocab\n",
    "                temp_label += ' ' + label\n",
    "        return tokens_list, ner_tags_list\n",
    "\n",
    "\n",
    "\n",
    "if __name__=='__main__':\n",
    "  tokens_list, ner_tags_list = read_ner_txt('train.txt')\n",
    "  val_tokens_list, val_ner_tags_list = read_ner_txt('valid.txt')\n",
    "  test_tokens_list, test_ner_tags_list = read_ner_txt('test.txt')"
   ]
  },
  {
   "cell_type": "code",
   "execution_count": 2,
   "id": "c2adf067",
   "metadata": {},
   "outputs": [
    {
     "name": "stdout",
     "output_type": "stream",
     "text": [
      "tok: ['Kaspersky believes both Shamoon and StoneDrill groups are aligned in their interests , but are two separate actors , which might also indicate two different groups working together .', 'Indeed , Kaspersky started tracking the BlueNoroff actor a long time ago .', 'Eset\\u200d has published a report on the state-sponsored Russian turla apt group \\u200d.', 'It seems Eset has discovered and published on a new malware module created by Turla .', 'The majority of NewsBeef targets that Kaspersky researchers have observed are located in SA .', 'While not directly overlapping , this potential infrastructure link is interesting , as Vixen Panda has previously displayed TTPs similar to COMMENT PANDA , and has extensively targeted European entities .', 'Given the evidence outlined above , CrowdStrike attributes the PUTTER PANDA group to PLA Unit 61486 within Shanghai , China with high confidence .', 'Several RATs are used by PUTTER PANDA .', 'The most common of these , the 4H RAT and the 3PARA RAT , have been documented previously by CrowdStrike in previous CrowdStrike Intelligence reporting .', 'This analysis will be revisited below , along with an examination of two other PUTTER PANDA tools : pngdowner and httpclient .']\n",
      "ner_tag: ['B-SecTeam O O B-HackOrg O B-HackOrg O O O O O O O O O O O O O O O O O O O O O O O', 'O O B-SecTeam O O O B-HackOrg O O O O O O', 'B-SecTeam O O O O O O O B-Area B-HackOrg O O O', 'O O B-SecTeam O O O O O O O O O O O B-HackOrg O', 'O O O B-HackOrg O O B-SecTeam O O O O O O B-Area O', 'O O O O O O O O O O O O O B-HackOrg I-HackOrg O O O O O O B-HackOrg I-HackOrg O O O O O B-Area O O', 'O O O O O O B-SecTeam O O B-HackOrg I-HackOrg I-HackOrg O O B-HackOrg I-HackOrg O B-Area O B-Area O O O O', 'O B-Tool O O O B-HackOrg I-HackOrg O', 'O O O O O O O B-Tool I-Tool O O B-Tool I-Tool O O O O O O B-SecTeam O O B-SecTeam I-SecTeam O O', 'O O O O O O O O O O O O O O B-HackOrg I-HackOrg O O B-Tool O B-Tool O']\n"
     ]
    }
   ],
   "source": [
    "tokens_list[:2]\n",
    "\n",
    "print(\"tok:\",test_tokens_list[:10])\n",
    "print(\"ner_tag:\",test_ner_tags_list[:10])"
   ]
  },
  {
   "cell_type": "code",
   "execution_count": 3,
   "id": "d0c75fba",
   "metadata": {},
   "outputs": [
    {
     "name": "stdout",
     "output_type": "stream",
     "text": [
      "tok: 661\n",
      "ner_tag: 661\n"
     ]
    }
   ],
   "source": [
    "print(\"tok:\",len(val_tokens_list))\n",
    "print(\"ner_tag:\",len(val_ner_tags_list))"
   ]
  },
  {
   "cell_type": "code",
   "execution_count": 4,
   "id": "d7a6dad8",
   "metadata": {},
   "outputs": [],
   "source": [
    "import pandas as pd\n",
    "\n",
    "def list_to_dataframe(tokens_list, ner_tags_list):\n",
    "  df = pd.DataFrame(zip(tokens_list,ner_tags_list), columns = ['tokens','ner_tags'])\n",
    "  assert all(i for i in ['tokens','ner_tags'] if i in df.columns) # 這兩個欄位名稱不能改，一定要有\n",
    "\n",
    "  # pre-processing\n",
    "  df = df.dropna()\n",
    "  df = df.drop(df[df['tokens']==''].index.values, )\n",
    "  df = df.reset_index(drop=True)\n",
    "  df['tokens'] = df['tokens'].map(lambda x: x.strip().split(' ')) # 我的token是一串文字，空白做間隔\n",
    "  df['ner_tags'] = df['ner_tags'].map(lambda x: x.strip().split(' ')) # 我的ner_tags是一串文字，空白做間隔\n",
    "  # df.head()\n",
    "  return df\n",
    "\n",
    "df = list_to_dataframe(tokens_list, ner_tags_list)\n",
    "test_df = list_to_dataframe(test_tokens_list, test_ner_tags_list)\n",
    "val_df = list_to_dataframe(val_tokens_list, val_ner_tags_list)\n"
   ]
  },
  {
   "cell_type": "code",
   "execution_count": 5,
   "id": "29de202d",
   "metadata": {},
   "outputs": [],
   "source": [
    "# label\n",
    "tag_name = [\n",
    "'O',\n",
    "'In',\n",
    "'It',\n",
    "'B-HackOrg',\n",
    "'I-HackOrg',\n",
    "'B-OffAct',\n",
    "'I-OffAct',\n",
    "'B-SamFile',\n",
    "'I-SamFile',\n",
    "'B-SecTeam',\n",
    "'I-SecTeam',\n",
    "'B-Time',\n",
    "'I-Time',\n",
    "'B-Org',\n",
    "'I-Org',\n",
    "'B-Purp',\n",
    "'I-Purp',\n",
    "'B-Exp',\n",
    "'I-Exp',\n",
    "'B-Idus',\n",
    "'I-Idus',\n",
    "'B-Area',\n",
    "'I-Area',\n",
    "'B-Way',\n",
    "'I-Way',\n",
    "'B-Features',\n",
    "'I-Features',\n",
    "'B-Tool',\n",
    "'I-Tool',\n",
    "]\n"
   ]
  },
  {
   "cell_type": "code",
   "execution_count": 6,
   "id": "9522caf6",
   "metadata": {},
   "outputs": [],
   "source": [
    "from datasets import Dataset, ClassLabel, Sequence, Features, Value, DatasetDict\n",
    "tags = ClassLabel(num_classes=len(tag_name), names=tag_name)"
   ]
  },
  {
   "cell_type": "code",
   "execution_count": 7,
   "id": "7492a73c",
   "metadata": {},
   "outputs": [],
   "source": [
    "dataset_structure = {\"ner_tags\":Sequence(tags),\n",
    "                 'tokens': Sequence(feature=Value(dtype='string'))}"
   ]
  },
  {
   "cell_type": "code",
   "execution_count": 8,
   "id": "19f8f857",
   "metadata": {},
   "outputs": [],
   "source": [
    "def df_to_dataset(df, columns=['ner_tags', 'tokens']):\n",
    "  assert set(['ner_tags', 'tokens']).issubset(df.columns)\n",
    "\n",
    "  ner_tags = df['ner_tags'].map(tags.str2int).values.tolist()\n",
    "  tokens = df['tokens'].values.tolist()\n",
    "\n",
    "  assert isinstance(tokens[0], list)\n",
    "  assert isinstance(ner_tags[0], list)\n",
    "  d = {'ner_tags':ner_tags, 'tokens':tokens}# 如果有其他欄位例如id, spans請從這裡添加\n",
    "  # create dataset\n",
    "  dataset = Dataset.from_dict(mapping=d,\n",
    "              features=Features(dataset_structure),)\n",
    "  return dataset\n",
    "\n",
    "dataset = df_to_dataset(df) # 從train.txt變成df，然後轉成訓練資料dataset\n",
    "test_dataset =  df_to_dataset(test_df) # 從test-submit.txt變成test_df，然後轉成訓練資料test_dataset\n",
    "val_dataset = df_to_dataset(val_df)\n",
    "train = dataset.train_test_split(test_size=0.1) # 訓練做分割，保留validation set\n",
    "\n",
    "# Split the 10% test + valid in half test, half valid\n",
    "test_valid = train['test'].train_test_split(test_size=0.5)\n",
    "# gather everyone if you want to have a single DatasetDict\n",
    "dataset = DatasetDict({\n",
    "    'train': dataset, # Trainer會用到\n",
    "    'test': test_dataset, # 獨立的測試資料\n",
    "    'valid': val_dataset}) # Trainer會用到\n",
    "\n",
    "label_names = dataset[\"train\"].features[\"ner_tags\"].feature.names"
   ]
  },
  {
   "cell_type": "code",
   "execution_count": 9,
   "id": "faafcd3d",
   "metadata": {},
   "outputs": [],
   "source": [
    "from transformers import AutoTokenizer\n",
    "tokenizer = AutoTokenizer.from_pretrained(\"jackaduma/SecBERT\")\n"
   ]
  },
  {
   "cell_type": "code",
   "execution_count": 10,
   "id": "f57edce4",
   "metadata": {},
   "outputs": [],
   "source": [
    "def tokenize_function(examples):\n",
    "    return tokenizer(examples[\"tokens\"], padding=\"max_length\",\n",
    "                     truncation=True, is_split_into_words=True)"
   ]
  },
  {
   "cell_type": "code",
   "execution_count": 11,
   "id": "d9a76549",
   "metadata": {},
   "outputs": [
    {
     "data": {
      "application/vnd.jupyter.widget-view+json": {
       "model_id": "de1cd3f4aaf746a6b67f293cb03b3d1f",
       "version_major": 2,
       "version_minor": 0
      },
      "text/plain": [
       "Map:   0%|          | 0/5250 [00:00<?, ? examples/s]"
      ]
     },
     "metadata": {},
     "output_type": "display_data"
    },
    {
     "name": "stderr",
     "output_type": "stream",
     "text": [
      "Asking to pad to max_length but no maximum length is provided and the model has no predefined maximum length. Default to no padding.\n",
      "Asking to truncate to max_length but no maximum length is provided and the model has no predefined maximum length. Default to no truncation.\n"
     ]
    },
    {
     "data": {
      "application/vnd.jupyter.widget-view+json": {
       "model_id": "f2df34b04a58437cbde06313ed725f9c",
       "version_major": 2,
       "version_minor": 0
      },
      "text/plain": [
       "Map:   0%|          | 0/663 [00:00<?, ? examples/s]"
      ]
     },
     "metadata": {},
     "output_type": "display_data"
    },
    {
     "data": {
      "application/vnd.jupyter.widget-view+json": {
       "model_id": "2e732be260684b68a4e9879ba639e125",
       "version_major": 2,
       "version_minor": 0
      },
      "text/plain": [
       "Map:   0%|          | 0/661 [00:00<?, ? examples/s]"
      ]
     },
     "metadata": {},
     "output_type": "display_data"
    }
   ],
   "source": [
    "tokenized_datasets_ = dataset.map(tokenize_function, batched=True)"
   ]
  },
  {
   "cell_type": "code",
   "execution_count": 12,
   "id": "ca5dd11e",
   "metadata": {},
   "outputs": [
    {
     "data": {
      "application/vnd.jupyter.widget-view+json": {
       "model_id": "f491d9c447f74cb4bb0d26ae1a090521",
       "version_major": 2,
       "version_minor": 0
      },
      "text/plain": [
       "Map:   0%|          | 0/5250 [00:00<?, ? examples/s]"
      ]
     },
     "metadata": {},
     "output_type": "display_data"
    },
    {
     "data": {
      "application/vnd.jupyter.widget-view+json": {
       "model_id": "907c9e3e52614c01a84c8af54d1d63e1",
       "version_major": 2,
       "version_minor": 0
      },
      "text/plain": [
       "Map:   0%|          | 0/663 [00:00<?, ? examples/s]"
      ]
     },
     "metadata": {},
     "output_type": "display_data"
    },
    {
     "data": {
      "application/vnd.jupyter.widget-view+json": {
       "model_id": "7cd00b090dd34ccb83a2c4ad9ac96c5d",
       "version_major": 2,
       "version_minor": 0
      },
      "text/plain": [
       "Map:   0%|          | 0/661 [00:00<?, ? examples/s]"
      ]
     },
     "metadata": {},
     "output_type": "display_data"
    }
   ],
   "source": [
    "def tokenize_adjust_labels(all_samples_per_split):\n",
    "    tokenized_samples = tokenizer(\n",
    "        all_samples_per_split[\"tokens\"],\n",
    "        truncation=True,\n",
    "        is_split_into_words=True,\n",
    "        return_offsets_mapping=False,\n",
    "        padding='max_length',  # 確保固定長度\n",
    "    )\n",
    "    \n",
    "    total_adjusted_labels = []\n",
    "    \n",
    "    for k in range(len(tokenized_samples[\"input_ids\"])):\n",
    "        word_ids = tokenized_samples.word_ids(batch_index=k)\n",
    "        existing_label_ids = all_samples_per_split[\"ner_tags\"][k]\n",
    "        adjusted_label_ids = []\n",
    "        prev_word_idx = None\n",
    "        label_idx = 0\n",
    "\n",
    "        for word_idx in word_ids:\n",
    "            if word_idx is None:\n",
    "                adjusted_label_ids.append(-100)  # 忽略特殊 token\n",
    "            elif word_idx != prev_word_idx:\n",
    "                if label_idx < len(existing_label_ids):  # 確保不越界\n",
    "                    adjusted_label_ids.append(existing_label_ids[label_idx])\n",
    "                else:\n",
    "                    adjusted_label_ids.append(-100)  # 用 -100 填充超出範圍的部分\n",
    "                prev_word_idx = word_idx\n",
    "                label_idx += 1\n",
    "            else:\n",
    "                adjusted_label_ids.append(-100)  # Subword 用 -100 處理\n",
    "\n",
    "        total_adjusted_labels.append(adjusted_label_ids)\n",
    "\n",
    "    tokenized_samples[\"labels\"] = total_adjusted_labels\n",
    "    return tokenized_samples\n",
    "\n",
    "\n",
    "tokenized_dataset = dataset.map(tokenize_adjust_labels,\n",
    "                batched=True,\n",
    "                remove_columns=list(dataset[\"train\"].features.keys()))\n"
   ]
  },
  {
   "cell_type": "code",
   "execution_count": 13,
   "id": "18ce2ea6",
   "metadata": {},
   "outputs": [
    {
     "data": {
      "text/plain": [
       "{'input_ids': [2, 10806, 21403, 20015, 1344, 2163, 4185, 1385, 5, 3], 'token_type_ids': [0, 0, 0, 0, 0, 0, 0, 0, 0, 0], 'attention_mask': [1, 1, 1, 1, 1, 1, 1, 1, 1, 1]}"
      ]
     },
     "execution_count": 13,
     "metadata": {},
     "output_type": "execute_result"
    }
   ],
   "source": [
    "out = tokenizer(\"Fine tune NER in google colab!\")\n",
    "out"
   ]
  },
  {
   "cell_type": "code",
   "execution_count": 14,
   "id": "a59f9c67",
   "metadata": {},
   "outputs": [
    {
     "data": {
      "text/plain": [
       "[None, 0, 1, 2, 3, 4, 5, 5, 6, None]"
      ]
     },
     "execution_count": 14,
     "metadata": {},
     "output_type": "execute_result"
    }
   ],
   "source": [
    "out.word_ids(0)"
   ]
  },
  {
   "cell_type": "code",
   "execution_count": 15,
   "id": "f8de89c3",
   "metadata": {},
   "outputs": [
    {
     "data": {
      "text/plain": [
       "DatasetDict({\n",
       "    train: Dataset({\n",
       "        features: ['input_ids', 'token_type_ids', 'attention_mask', 'labels'],\n",
       "        num_rows: 5250\n",
       "    })\n",
       "    test: Dataset({\n",
       "        features: ['input_ids', 'token_type_ids', 'attention_mask', 'labels'],\n",
       "        num_rows: 663\n",
       "    })\n",
       "    valid: Dataset({\n",
       "        features: ['input_ids', 'token_type_ids', 'attention_mask', 'labels'],\n",
       "        num_rows: 661\n",
       "    })\n",
       "})"
      ]
     },
     "execution_count": 15,
     "metadata": {},
     "output_type": "execute_result"
    }
   ],
   "source": [
    "tokenized_dataset"
   ]
  },
  {
   "cell_type": "code",
   "execution_count": 16,
   "id": "a7847873",
   "metadata": {},
   "outputs": [],
   "source": [
    "from transformers import DataCollatorForTokenClassification\n",
    "data_collator = DataCollatorForTokenClassification(tokenizer)"
   ]
  },
  {
   "cell_type": "code",
   "execution_count": 17,
   "id": "f25aee45",
   "metadata": {},
   "outputs": [],
   "source": [
    "# model\n",
    "import torch\n",
    "import torch.nn as nn\n",
    "from transformers import AutoModel, PreTrainedModel, AutoConfig\n",
    "\n",
    "class SecBERT_BiLSTM_CNN(nn.Module):\n",
    "    def __init__(self, model_name, num_labels, hidden_dim=256, dropout=0.1, cnn_out_channels=128, cnn_kernel_size=3):\n",
    "        super().__init__()\n",
    "        self.bert = AutoModel.from_pretrained(model_name)\n",
    "        self.lstm = nn.LSTM(\n",
    "            input_size=self.bert.config.hidden_size,\n",
    "            hidden_size=hidden_dim,\n",
    "            num_layers=1,\n",
    "            batch_first=True,\n",
    "            bidirectional=True\n",
    "        )\n",
    "        self.cnn = nn.Conv1d(\n",
    "            in_channels=hidden_dim * 2,\n",
    "            out_channels=cnn_out_channels,\n",
    "            kernel_size=cnn_kernel_size,\n",
    "            padding=cnn_kernel_size // 2  # 為了保持長度一致\n",
    "        )\n",
    "        self.dropout = nn.Dropout(dropout)\n",
    "        self.classifier = nn.Linear(cnn_out_channels, num_labels)\n",
    "\n",
    "    def forward(self, input_ids, attention_mask, labels=None):\n",
    "        outputs = self.bert(input_ids=input_ids, attention_mask=attention_mask)\n",
    "        sequence_output = outputs.last_hidden_state  # [batch, seq_len, hidden]\n",
    "        lstm_output, _ = self.lstm(sequence_output)  # [batch, seq_len, hidden*2]\n",
    "        \n",
    "        # CNN expects input as [batch, channels, seq_len]\n",
    "        cnn_input = lstm_output.permute(0, 2, 1)  # → [batch, hidden*2, seq_len]\n",
    "        cnn_output = self.cnn(cnn_input)          # → [batch, cnn_out_channels, seq_len]\n",
    "        cnn_output = cnn_output.permute(0, 2, 1)  # → [batch, seq_len, cnn_out_channels]\n",
    "        \n",
    "        logits = self.classifier(self.dropout(cnn_output))  # [batch, seq_len, num_labels]\n",
    "\n",
    "        loss = None\n",
    "        if labels is not None:\n",
    "            loss_fct = nn.CrossEntropyLoss(ignore_index=-100)\n",
    "            loss = loss_fct(logits.view(-1, logits.shape[-1]), labels.view(-1))\n",
    "\n",
    "        return {\"logits\": logits, \"loss\": loss}\n"
   ]
  },
  {
   "cell_type": "code",
   "execution_count": 18,
   "id": "818d3e2e",
   "metadata": {},
   "outputs": [
    {
     "data": {
      "text/plain": [
       "device(type='cuda')"
      ]
     },
     "execution_count": 18,
     "metadata": {},
     "output_type": "execute_result"
    }
   ],
   "source": [
    "#check if gpu is present\n",
    "device = torch.device('cuda') if torch.cuda.is_available() else torch.device('cpu')\n",
    "device\n"
   ]
  },
  {
   "cell_type": "code",
   "execution_count": 19,
   "id": "30575cdc",
   "metadata": {},
   "outputs": [
    {
     "data": {
      "text/plain": [
       "SecBERT_BiLSTM_CNN(\n",
       "  (bert): BertModel(\n",
       "    (embeddings): BertEmbeddings(\n",
       "      (word_embeddings): Embedding(52000, 768, padding_idx=0)\n",
       "      (position_embeddings): Embedding(514, 768)\n",
       "      (token_type_embeddings): Embedding(1, 768)\n",
       "      (LayerNorm): LayerNorm((768,), eps=1e-12, elementwise_affine=True)\n",
       "      (dropout): Dropout(p=0.1, inplace=False)\n",
       "    )\n",
       "    (encoder): BertEncoder(\n",
       "      (layer): ModuleList(\n",
       "        (0-5): 6 x BertLayer(\n",
       "          (attention): BertAttention(\n",
       "            (self): BertSdpaSelfAttention(\n",
       "              (query): Linear(in_features=768, out_features=768, bias=True)\n",
       "              (key): Linear(in_features=768, out_features=768, bias=True)\n",
       "              (value): Linear(in_features=768, out_features=768, bias=True)\n",
       "              (dropout): Dropout(p=0.1, inplace=False)\n",
       "            )\n",
       "            (output): BertSelfOutput(\n",
       "              (dense): Linear(in_features=768, out_features=768, bias=True)\n",
       "              (LayerNorm): LayerNorm((768,), eps=1e-12, elementwise_affine=True)\n",
       "              (dropout): Dropout(p=0.1, inplace=False)\n",
       "            )\n",
       "          )\n",
       "          (intermediate): BertIntermediate(\n",
       "            (dense): Linear(in_features=768, out_features=3072, bias=True)\n",
       "            (intermediate_act_fn): GELUActivation()\n",
       "          )\n",
       "          (output): BertOutput(\n",
       "            (dense): Linear(in_features=3072, out_features=768, bias=True)\n",
       "            (LayerNorm): LayerNorm((768,), eps=1e-12, elementwise_affine=True)\n",
       "            (dropout): Dropout(p=0.1, inplace=False)\n",
       "          )\n",
       "        )\n",
       "      )\n",
       "    )\n",
       "    (pooler): BertPooler(\n",
       "      (dense): Linear(in_features=768, out_features=768, bias=True)\n",
       "      (activation): Tanh()\n",
       "    )\n",
       "  )\n",
       "  (lstm): LSTM(768, 256, batch_first=True, bidirectional=True)\n",
       "  (cnn): Conv1d(512, 128, kernel_size=(3,), stride=(1,), padding=(1,))\n",
       "  (dropout): Dropout(p=0.1, inplace=False)\n",
       "  (classifier): Linear(in_features=128, out_features=29, bias=True)\n",
       ")"
      ]
     },
     "execution_count": 19,
     "metadata": {},
     "output_type": "execute_result"
    }
   ],
   "source": [
    "model = SecBERT_BiLSTM_CNN(\"jackaduma/SecBERT\", num_labels=len(label_names))\n",
    "model.to(device)\n"
   ]
  },
  {
   "cell_type": "code",
   "execution_count": 20,
   "id": "69dd04b8",
   "metadata": {},
   "outputs": [],
   "source": [
    "# evaluation\n",
    "import numpy as np\n",
    "import evaluate\n",
    "metric = evaluate.load(\"seqeval\")\n",
    "\n",
    "\n",
    "def compute_metrics(p):\n",
    "    predictions, labels = p\n",
    "\n",
    "    #select predicted index with maximum logit for each token\n",
    "    predictions = np.argmax(predictions, axis=2)\n",
    "\n",
    "    # Remove ignored index (special tokens)\n",
    "    true_predictions = [\n",
    "        [label_names[p] for (p, l) in zip(prediction, label) if l != -100]\n",
    "        for prediction, label in zip(predictions, labels)\n",
    "    ]\n",
    "    true_labels = [\n",
    "        [label_names[l] for (p, l) in zip(prediction, label) if l != -100]\n",
    "        for prediction, label in zip(predictions, labels)\n",
    "    ]\n",
    "\n",
    "    results = metric.compute(predictions=true_predictions, references=true_labels)\n",
    "    return {\n",
    "        \"precision\": results[\"overall_precision\"],\n",
    "        \"recall\": results[\"overall_recall\"],\n",
    "        \"f1\": results[\"overall_f1\"],\n",
    "        \"accuracy\": results[\"overall_accuracy\"],\n",
    "    }"
   ]
  },
  {
   "cell_type": "code",
   "execution_count": 21,
   "id": "5cfd2f2d",
   "metadata": {},
   "outputs": [
    {
     "data": {
      "text/plain": [
       "{'Area': {'precision': 1.0, 'recall': 1.0, 'f1': 1.0, 'number': 3},\n",
       " 'HackOrg': {'precision': 1.0, 'recall': 1.0, 'f1': 1.0, 'number': 1},\n",
       " 'Idus': {'precision': 1.0, 'recall': 1.0, 'f1': 1.0, 'number': 2},\n",
       " 'Org': {'precision': 1.0, 'recall': 1.0, 'f1': 1.0, 'number': 1},\n",
       " 'overall_precision': 1.0,\n",
       " 'overall_recall': 1.0,\n",
       " 'overall_f1': 1.0,\n",
       " 'overall_accuracy': 1.0}"
      ]
     },
     "execution_count": 21,
     "metadata": {},
     "output_type": "execute_result"
    }
   ],
   "source": [
    "example = dataset[\"train\"][1]\n",
    "labels = [label_names[i] for i in example[f\"ner_tags\"]]\n",
    "metric.compute(predictions=[labels], references=[labels])"
   ]
  },
  {
   "cell_type": "code",
   "execution_count": 22,
   "id": "d6bd73e9",
   "metadata": {},
   "outputs": [
    {
     "name": "stdout",
     "output_type": "stream",
     "text": [
      "WARNING:tensorflow:From c:\\Users\\user\\AppData\\Local\\Programs\\Python\\Python312\\Lib\\site-packages\\tf_keras\\src\\losses.py:2976: The name tf.losses.sparse_softmax_cross_entropy is deprecated. Please use tf.compat.v1.losses.sparse_softmax_cross_entropy instead.\n",
      "\n"
     ]
    },
    {
     "name": "stderr",
     "output_type": "stream",
     "text": [
      "c:\\Users\\user\\AppData\\Local\\Programs\\Python\\Python312\\Lib\\site-packages\\transformers\\training_args.py:1611: FutureWarning: `evaluation_strategy` is deprecated and will be removed in version 4.46 of 🤗 Transformers. Use `eval_strategy` instead\n",
      "  warnings.warn(\n"
     ]
    }
   ],
   "source": [
    "from transformers import TrainingArguments, Trainer\n",
    "\n",
    "batch_size = 16\n",
    "logging_steps = len(tokenized_dataset['train']) // batch_size\n",
    "epochs = 20 # 多訓練幾次可以讓分數好一些\n",
    "# default optim=adamw,lr=3e-5\n",
    "training_args = TrainingArguments(\n",
    "    output_dir=\"/result\",\n",
    "    num_train_epochs=epochs,\n",
    "    per_device_train_batch_size=batch_size,\n",
    "    per_device_eval_batch_size=batch_size,\n",
    "    evaluation_strategy=\"epoch\",\n",
    "    logging_dir=\"./logs\",                      \n",
    "    report_to=\"none\",   \n",
    "    disable_tqdm=False,\n",
    "    logging_steps=logging_steps)\n"
   ]
  },
  {
   "cell_type": "code",
   "execution_count": 23,
   "id": "5620a9d0",
   "metadata": {},
   "outputs": [
    {
     "name": "stderr",
     "output_type": "stream",
     "text": [
      "C:\\Users\\user\\AppData\\Local\\Temp\\ipykernel_27136\\183786609.py:1: FutureWarning: `tokenizer` is deprecated and will be removed in version 5.0.0 for `Trainer.__init__`. Use `processing_class` instead.\n",
      "  trainer = Trainer(\n"
     ]
    }
   ],
   "source": [
    "trainer = Trainer(\n",
    "    model=model,  # <-- 換成 SecBERT + BiLSTM\n",
    "    args=training_args,\n",
    "    train_dataset=tokenized_dataset[\"train\"],\n",
    "    eval_dataset=tokenized_dataset[\"valid\"],\n",
    "    data_collator=data_collator,\n",
    "    tokenizer=tokenizer,\n",
    "    compute_metrics=compute_metrics\n",
    ")\n"
   ]
  },
  {
   "cell_type": "code",
   "execution_count": 24,
   "id": "e6dd34da",
   "metadata": {},
   "outputs": [
    {
     "name": "stderr",
     "output_type": "stream",
     "text": [
      "c:\\Users\\user\\AppData\\Local\\Programs\\Python\\Python312\\Lib\\site-packages\\transformers\\models\\bert\\modeling_bert.py:440: UserWarning: 1Torch was not compiled with flash attention. (Triggered internally at C:\\actions-runner\\_work\\pytorch\\pytorch\\builder\\windows\\pytorch\\aten\\src\\ATen\\native\\transformers\\cuda\\sdp_utils.cpp:555.)\n",
      "  attn_output = torch.nn.functional.scaled_dot_product_attention(\n"
     ]
    },
    {
     "data": {
      "text/html": [
       "\n",
       "    <div>\n",
       "      \n",
       "      <progress value='6580' max='6580' style='width:300px; height:20px; vertical-align: middle;'></progress>\n",
       "      [6580/6580 04:01, Epoch 20/20]\n",
       "    </div>\n",
       "    <table border=\"1\" class=\"dataframe\">\n",
       "  <thead>\n",
       " <tr style=\"text-align: left;\">\n",
       "      <th>Epoch</th>\n",
       "      <th>Training Loss</th>\n",
       "      <th>Validation Loss</th>\n",
       "      <th>Precision</th>\n",
       "      <th>Recall</th>\n",
       "      <th>F1</th>\n",
       "      <th>Accuracy</th>\n",
       "    </tr>\n",
       "  </thead>\n",
       "  <tbody>\n",
       "    <tr>\n",
       "      <td>1</td>\n",
       "      <td>0.848800</td>\n",
       "      <td>0.400927</td>\n",
       "      <td>0.511152</td>\n",
       "      <td>0.516797</td>\n",
       "      <td>0.513959</td>\n",
       "      <td>0.890495</td>\n",
       "    </tr>\n",
       "    <tr>\n",
       "      <td>2</td>\n",
       "      <td>0.293300</td>\n",
       "      <td>0.272440</td>\n",
       "      <td>0.665031</td>\n",
       "      <td>0.686148</td>\n",
       "      <td>0.675425</td>\n",
       "      <td>0.921002</td>\n",
       "    </tr>\n",
       "    <tr>\n",
       "      <td>3</td>\n",
       "      <td>0.145800</td>\n",
       "      <td>0.239058</td>\n",
       "      <td>0.741055</td>\n",
       "      <td>0.762540</td>\n",
       "      <td>0.751644</td>\n",
       "      <td>0.936596</td>\n",
       "    </tr>\n",
       "    <tr>\n",
       "      <td>4</td>\n",
       "      <td>0.079700</td>\n",
       "      <td>0.246836</td>\n",
       "      <td>0.771455</td>\n",
       "      <td>0.773585</td>\n",
       "      <td>0.772518</td>\n",
       "      <td>0.941890</td>\n",
       "    </tr>\n",
       "    <tr>\n",
       "      <td>5</td>\n",
       "      <td>0.048500</td>\n",
       "      <td>0.294726</td>\n",
       "      <td>0.749673</td>\n",
       "      <td>0.791072</td>\n",
       "      <td>0.769816</td>\n",
       "      <td>0.938532</td>\n",
       "    </tr>\n",
       "    <tr>\n",
       "      <td>6</td>\n",
       "      <td>0.032600</td>\n",
       "      <td>0.309172</td>\n",
       "      <td>0.747019</td>\n",
       "      <td>0.807179</td>\n",
       "      <td>0.775935</td>\n",
       "      <td>0.938930</td>\n",
       "    </tr>\n",
       "    <tr>\n",
       "      <td>7</td>\n",
       "      <td>0.023100</td>\n",
       "      <td>0.306405</td>\n",
       "      <td>0.782857</td>\n",
       "      <td>0.819604</td>\n",
       "      <td>0.800809</td>\n",
       "      <td>0.944394</td>\n",
       "    </tr>\n",
       "    <tr>\n",
       "      <td>8</td>\n",
       "      <td>0.016500</td>\n",
       "      <td>0.315126</td>\n",
       "      <td>0.782091</td>\n",
       "      <td>0.815923</td>\n",
       "      <td>0.798649</td>\n",
       "      <td>0.945589</td>\n",
       "    </tr>\n",
       "    <tr>\n",
       "      <td>9</td>\n",
       "      <td>0.012800</td>\n",
       "      <td>0.338266</td>\n",
       "      <td>0.781305</td>\n",
       "      <td>0.815462</td>\n",
       "      <td>0.798018</td>\n",
       "      <td>0.945418</td>\n",
       "    </tr>\n",
       "    <tr>\n",
       "      <td>10</td>\n",
       "      <td>0.010100</td>\n",
       "      <td>0.342596</td>\n",
       "      <td>0.786661</td>\n",
       "      <td>0.819604</td>\n",
       "      <td>0.802795</td>\n",
       "      <td>0.946841</td>\n",
       "    </tr>\n",
       "    <tr>\n",
       "      <td>11</td>\n",
       "      <td>0.007500</td>\n",
       "      <td>0.355353</td>\n",
       "      <td>0.785214</td>\n",
       "      <td>0.826047</td>\n",
       "      <td>0.805113</td>\n",
       "      <td>0.946443</td>\n",
       "    </tr>\n",
       "    <tr>\n",
       "      <td>12</td>\n",
       "      <td>0.006000</td>\n",
       "      <td>0.362205</td>\n",
       "      <td>0.789894</td>\n",
       "      <td>0.820064</td>\n",
       "      <td>0.804696</td>\n",
       "      <td>0.947581</td>\n",
       "    </tr>\n",
       "    <tr>\n",
       "      <td>13</td>\n",
       "      <td>0.005400</td>\n",
       "      <td>0.362691</td>\n",
       "      <td>0.792070</td>\n",
       "      <td>0.827428</td>\n",
       "      <td>0.809363</td>\n",
       "      <td>0.948606</td>\n",
       "    </tr>\n",
       "    <tr>\n",
       "      <td>14</td>\n",
       "      <td>0.004600</td>\n",
       "      <td>0.377067</td>\n",
       "      <td>0.792645</td>\n",
       "      <td>0.823286</td>\n",
       "      <td>0.807675</td>\n",
       "      <td>0.947809</td>\n",
       "    </tr>\n",
       "    <tr>\n",
       "      <td>15</td>\n",
       "      <td>0.004100</td>\n",
       "      <td>0.386636</td>\n",
       "      <td>0.784141</td>\n",
       "      <td>0.819144</td>\n",
       "      <td>0.801260</td>\n",
       "      <td>0.946500</td>\n",
       "    </tr>\n",
       "    <tr>\n",
       "      <td>16</td>\n",
       "      <td>0.003500</td>\n",
       "      <td>0.403750</td>\n",
       "      <td>0.781898</td>\n",
       "      <td>0.815002</td>\n",
       "      <td>0.798107</td>\n",
       "      <td>0.945931</td>\n",
       "    </tr>\n",
       "    <tr>\n",
       "      <td>17</td>\n",
       "      <td>0.003100</td>\n",
       "      <td>0.407413</td>\n",
       "      <td>0.783392</td>\n",
       "      <td>0.820525</td>\n",
       "      <td>0.801528</td>\n",
       "      <td>0.946329</td>\n",
       "    </tr>\n",
       "    <tr>\n",
       "      <td>18</td>\n",
       "      <td>0.002800</td>\n",
       "      <td>0.405572</td>\n",
       "      <td>0.784091</td>\n",
       "      <td>0.825587</td>\n",
       "      <td>0.804304</td>\n",
       "      <td>0.946784</td>\n",
       "    </tr>\n",
       "    <tr>\n",
       "      <td>19</td>\n",
       "      <td>0.002600</td>\n",
       "      <td>0.408987</td>\n",
       "      <td>0.786561</td>\n",
       "      <td>0.824206</td>\n",
       "      <td>0.804944</td>\n",
       "      <td>0.947183</td>\n",
       "    </tr>\n",
       "    <tr>\n",
       "      <td>20</td>\n",
       "      <td>0.002300</td>\n",
       "      <td>0.410745</td>\n",
       "      <td>0.783370</td>\n",
       "      <td>0.823746</td>\n",
       "      <td>0.803051</td>\n",
       "      <td>0.946955</td>\n",
       "    </tr>\n",
       "  </tbody>\n",
       "</table><p>"
      ],
      "text/plain": [
       "<IPython.core.display.HTML object>"
      ]
     },
     "metadata": {},
     "output_type": "display_data"
    },
    {
     "name": "stderr",
     "output_type": "stream",
     "text": [
      "c:\\Users\\user\\AppData\\Local\\Programs\\Python\\Python312\\Lib\\site-packages\\seqeval\\metrics\\sequence_labeling.py:171: UserWarning: In seems not to be NE tag.\n",
      "  warnings.warn('{} seems not to be NE tag.'.format(chunk))\n",
      "c:\\Users\\user\\AppData\\Local\\Programs\\Python\\Python312\\Lib\\site-packages\\seqeval\\metrics\\v1.py:57: UndefinedMetricWarning: Precision and F-score are ill-defined and being set to 0.0 in labels with no predicted samples. Use `zero_division` parameter to control this behavior.\n",
      "  _warn_prf(average, modifier, msg_start, len(result))\n",
      "c:\\Users\\user\\AppData\\Local\\Programs\\Python\\Python312\\Lib\\site-packages\\seqeval\\metrics\\sequence_labeling.py:171: UserWarning: In seems not to be NE tag.\n",
      "  warnings.warn('{} seems not to be NE tag.'.format(chunk))\n",
      "c:\\Users\\user\\AppData\\Local\\Programs\\Python\\Python312\\Lib\\site-packages\\seqeval\\metrics\\v1.py:57: UndefinedMetricWarning: Precision and F-score are ill-defined and being set to 0.0 in labels with no predicted samples. Use `zero_division` parameter to control this behavior.\n",
      "  _warn_prf(average, modifier, msg_start, len(result))\n",
      "c:\\Users\\user\\AppData\\Local\\Programs\\Python\\Python312\\Lib\\site-packages\\seqeval\\metrics\\sequence_labeling.py:171: UserWarning: In seems not to be NE tag.\n",
      "  warnings.warn('{} seems not to be NE tag.'.format(chunk))\n",
      "c:\\Users\\user\\AppData\\Local\\Programs\\Python\\Python312\\Lib\\site-packages\\seqeval\\metrics\\v1.py:57: UndefinedMetricWarning: Precision and F-score are ill-defined and being set to 0.0 in labels with no predicted samples. Use `zero_division` parameter to control this behavior.\n",
      "  _warn_prf(average, modifier, msg_start, len(result))\n",
      "c:\\Users\\user\\AppData\\Local\\Programs\\Python\\Python312\\Lib\\site-packages\\seqeval\\metrics\\sequence_labeling.py:171: UserWarning: In seems not to be NE tag.\n",
      "  warnings.warn('{} seems not to be NE tag.'.format(chunk))\n",
      "c:\\Users\\user\\AppData\\Local\\Programs\\Python\\Python312\\Lib\\site-packages\\seqeval\\metrics\\v1.py:57: UndefinedMetricWarning: Precision and F-score are ill-defined and being set to 0.0 in labels with no predicted samples. Use `zero_division` parameter to control this behavior.\n",
      "  _warn_prf(average, modifier, msg_start, len(result))\n",
      "c:\\Users\\user\\AppData\\Local\\Programs\\Python\\Python312\\Lib\\site-packages\\seqeval\\metrics\\sequence_labeling.py:171: UserWarning: In seems not to be NE tag.\n",
      "  warnings.warn('{} seems not to be NE tag.'.format(chunk))\n",
      "c:\\Users\\user\\AppData\\Local\\Programs\\Python\\Python312\\Lib\\site-packages\\seqeval\\metrics\\v1.py:57: UndefinedMetricWarning: Precision and F-score are ill-defined and being set to 0.0 in labels with no predicted samples. Use `zero_division` parameter to control this behavior.\n",
      "  _warn_prf(average, modifier, msg_start, len(result))\n",
      "c:\\Users\\user\\AppData\\Local\\Programs\\Python\\Python312\\Lib\\site-packages\\seqeval\\metrics\\sequence_labeling.py:171: UserWarning: In seems not to be NE tag.\n",
      "  warnings.warn('{} seems not to be NE tag.'.format(chunk))\n",
      "c:\\Users\\user\\AppData\\Local\\Programs\\Python\\Python312\\Lib\\site-packages\\seqeval\\metrics\\v1.py:57: UndefinedMetricWarning: Precision and F-score are ill-defined and being set to 0.0 in labels with no predicted samples. Use `zero_division` parameter to control this behavior.\n",
      "  _warn_prf(average, modifier, msg_start, len(result))\n",
      "c:\\Users\\user\\AppData\\Local\\Programs\\Python\\Python312\\Lib\\site-packages\\seqeval\\metrics\\sequence_labeling.py:171: UserWarning: In seems not to be NE tag.\n",
      "  warnings.warn('{} seems not to be NE tag.'.format(chunk))\n",
      "c:\\Users\\user\\AppData\\Local\\Programs\\Python\\Python312\\Lib\\site-packages\\seqeval\\metrics\\v1.py:57: UndefinedMetricWarning: Precision and F-score are ill-defined and being set to 0.0 in labels with no predicted samples. Use `zero_division` parameter to control this behavior.\n",
      "  _warn_prf(average, modifier, msg_start, len(result))\n",
      "c:\\Users\\user\\AppData\\Local\\Programs\\Python\\Python312\\Lib\\site-packages\\seqeval\\metrics\\sequence_labeling.py:171: UserWarning: In seems not to be NE tag.\n",
      "  warnings.warn('{} seems not to be NE tag.'.format(chunk))\n",
      "c:\\Users\\user\\AppData\\Local\\Programs\\Python\\Python312\\Lib\\site-packages\\seqeval\\metrics\\v1.py:57: UndefinedMetricWarning: Precision and F-score are ill-defined and being set to 0.0 in labels with no predicted samples. Use `zero_division` parameter to control this behavior.\n",
      "  _warn_prf(average, modifier, msg_start, len(result))\n",
      "c:\\Users\\user\\AppData\\Local\\Programs\\Python\\Python312\\Lib\\site-packages\\seqeval\\metrics\\sequence_labeling.py:171: UserWarning: In seems not to be NE tag.\n",
      "  warnings.warn('{} seems not to be NE tag.'.format(chunk))\n",
      "c:\\Users\\user\\AppData\\Local\\Programs\\Python\\Python312\\Lib\\site-packages\\seqeval\\metrics\\v1.py:57: UndefinedMetricWarning: Precision and F-score are ill-defined and being set to 0.0 in labels with no predicted samples. Use `zero_division` parameter to control this behavior.\n",
      "  _warn_prf(average, modifier, msg_start, len(result))\n",
      "c:\\Users\\user\\AppData\\Local\\Programs\\Python\\Python312\\Lib\\site-packages\\seqeval\\metrics\\sequence_labeling.py:171: UserWarning: In seems not to be NE tag.\n",
      "  warnings.warn('{} seems not to be NE tag.'.format(chunk))\n",
      "c:\\Users\\user\\AppData\\Local\\Programs\\Python\\Python312\\Lib\\site-packages\\seqeval\\metrics\\v1.py:57: UndefinedMetricWarning: Precision and F-score are ill-defined and being set to 0.0 in labels with no predicted samples. Use `zero_division` parameter to control this behavior.\n",
      "  _warn_prf(average, modifier, msg_start, len(result))\n",
      "c:\\Users\\user\\AppData\\Local\\Programs\\Python\\Python312\\Lib\\site-packages\\seqeval\\metrics\\sequence_labeling.py:171: UserWarning: In seems not to be NE tag.\n",
      "  warnings.warn('{} seems not to be NE tag.'.format(chunk))\n",
      "c:\\Users\\user\\AppData\\Local\\Programs\\Python\\Python312\\Lib\\site-packages\\seqeval\\metrics\\v1.py:57: UndefinedMetricWarning: Precision and F-score are ill-defined and being set to 0.0 in labels with no predicted samples. Use `zero_division` parameter to control this behavior.\n",
      "  _warn_prf(average, modifier, msg_start, len(result))\n",
      "c:\\Users\\user\\AppData\\Local\\Programs\\Python\\Python312\\Lib\\site-packages\\seqeval\\metrics\\sequence_labeling.py:171: UserWarning: In seems not to be NE tag.\n",
      "  warnings.warn('{} seems not to be NE tag.'.format(chunk))\n",
      "c:\\Users\\user\\AppData\\Local\\Programs\\Python\\Python312\\Lib\\site-packages\\seqeval\\metrics\\v1.py:57: UndefinedMetricWarning: Precision and F-score are ill-defined and being set to 0.0 in labels with no predicted samples. Use `zero_division` parameter to control this behavior.\n",
      "  _warn_prf(average, modifier, msg_start, len(result))\n",
      "c:\\Users\\user\\AppData\\Local\\Programs\\Python\\Python312\\Lib\\site-packages\\seqeval\\metrics\\sequence_labeling.py:171: UserWarning: In seems not to be NE tag.\n",
      "  warnings.warn('{} seems not to be NE tag.'.format(chunk))\n",
      "c:\\Users\\user\\AppData\\Local\\Programs\\Python\\Python312\\Lib\\site-packages\\seqeval\\metrics\\sequence_labeling.py:171: UserWarning: In seems not to be NE tag.\n",
      "  warnings.warn('{} seems not to be NE tag.'.format(chunk))\n"
     ]
    },
    {
     "data": {
      "text/plain": [
       "TrainOutput(global_step=6580, training_loss=0.07743143504287334, metrics={'train_runtime': 241.7022, 'train_samples_per_second': 434.419, 'train_steps_per_second': 27.224, 'total_flos': 0.0, 'train_loss': 0.07743143504287334, 'epoch': 20.0})"
      ]
     },
     "execution_count": 24,
     "metadata": {},
     "output_type": "execute_result"
    }
   ],
   "source": [
    "trainer.train()"
   ]
  },
  {
   "cell_type": "code",
   "execution_count": 25,
   "id": "4ce037d3",
   "metadata": {},
   "outputs": [
    {
     "data": {
      "text/html": [],
      "text/plain": [
       "<IPython.core.display.HTML object>"
      ]
     },
     "metadata": {},
     "output_type": "display_data"
    },
    {
     "data": {
      "text/plain": [
       "{'eval_loss': 0.41074514389038086,\n",
       " 'eval_precision': 0.7833698030634574,\n",
       " 'eval_recall': 0.8237459733087897,\n",
       " 'eval_f1': 0.8030506953790938,\n",
       " 'eval_accuracy': 0.9469550369948776,\n",
       " 'eval_runtime': 0.7593,\n",
       " 'eval_samples_per_second': 870.537,\n",
       " 'eval_steps_per_second': 55.314,\n",
       " 'epoch': 20.0}"
      ]
     },
     "execution_count": 25,
     "metadata": {},
     "output_type": "execute_result"
    }
   ],
   "source": [
    "trainer.evaluate()"
   ]
  },
  {
   "cell_type": "code",
   "execution_count": 26,
   "id": "474d2095",
   "metadata": {},
   "outputs": [],
   "source": [
    "predictions, labels, _ = trainer.predict(tokenized_dataset[\"test\"])\n",
    "predictions = np.argmax(predictions, axis=2)\n",
    "# Remove ignored index (special tokens)\n",
    "true_predictions = [\n",
    "    [label_names[p] for (p, l) in zip(prediction, label) if l != -100]\n",
    "    for prediction, label in zip(predictions, labels)\n",
    "]"
   ]
  },
  {
   "cell_type": "code",
   "execution_count": 27,
   "id": "77dbc472",
   "metadata": {},
   "outputs": [
    {
     "data": {
      "text/html": [
       "<div>\n",
       "<style scoped>\n",
       "    .dataframe tbody tr th:only-of-type {\n",
       "        vertical-align: middle;\n",
       "    }\n",
       "\n",
       "    .dataframe tbody tr th {\n",
       "        vertical-align: top;\n",
       "    }\n",
       "\n",
       "    .dataframe thead th {\n",
       "        text-align: right;\n",
       "    }\n",
       "</style>\n",
       "<table border=\"1\" class=\"dataframe\">\n",
       "  <thead>\n",
       "    <tr style=\"text-align: right;\">\n",
       "      <th></th>\n",
       "      <th>tokens</th>\n",
       "      <th>ner_tags</th>\n",
       "    </tr>\n",
       "  </thead>\n",
       "  <tbody>\n",
       "    <tr>\n",
       "      <th>0</th>\n",
       "      <td>kaspersky</td>\n",
       "      <td>B-SecTeam</td>\n",
       "    </tr>\n",
       "    <tr>\n",
       "      <th>1</th>\n",
       "      <td>believes</td>\n",
       "      <td>O</td>\n",
       "    </tr>\n",
       "    <tr>\n",
       "      <th>2</th>\n",
       "      <td>both</td>\n",
       "      <td>O</td>\n",
       "    </tr>\n",
       "    <tr>\n",
       "      <th>3</th>\n",
       "      <td>shamoon</td>\n",
       "      <td>B-Tool</td>\n",
       "    </tr>\n",
       "    <tr>\n",
       "      <th>4</th>\n",
       "      <td>and</td>\n",
       "      <td>O</td>\n",
       "    </tr>\n",
       "  </tbody>\n",
       "</table>\n",
       "</div>"
      ],
      "text/plain": [
       "      tokens   ner_tags\n",
       "0  kaspersky  B-SecTeam\n",
       "1   believes          O\n",
       "2       both          O\n",
       "3    shamoon     B-Tool\n",
       "4        and          O"
      ]
     },
     "execution_count": 27,
     "metadata": {},
     "output_type": "execute_result"
    }
   ],
   "source": [
    "# 將編碼後的資料轉換回文字，(但這些文字會是破碎的，舉例來說 \"Apple\"可能變成\"App\", \"le\")\n",
    "re_tokenized_tokens = []\n",
    "for i in tokenized_dataset[\"test\"]['input_ids']:\n",
    "  a = tokenizer.convert_ids_to_tokens(i, skip_special_tokens=True)\n",
    "  re_tokenized_tokens.append(a)\n",
    "\n",
    "# 文字和true_predictions變成dataframe(依然是破碎的狀態)\n",
    "new_df = None\n",
    "lis = []\n",
    "for token, pred in zip(re_tokenized_tokens, true_predictions):\n",
    "  token_list = np.array(token).reshape(-1,1)\n",
    "  tag_list = np.array(pred).reshape(-1,1)\n",
    "  # print(token_list.shape, tag_list.shape, )\n",
    "\n",
    "  try:\n",
    "    result = np.concatenate((token_list,tag_list),axis=1)\n",
    "  except ValueError: # 有時候重新編碼過程會有問題，發生在token_list,tag_list的長度不匹配，\n",
    "              # 做concat的時候遇到這個狀況會raise ValueError，因此進行例外處理\n",
    "    max_ = max(len(token_list), len(tag_list))\n",
    "    if len(token_list) < max_:\n",
    "      miss_len =  max_ - len(token_list) # 計算不匹配的長度\n",
    "      token_list = token_list.reshape(-1).tolist()\n",
    "      token_list += ['miss_string']*miss_len # 把長度補起來\n",
    "      token_list = np.array(token_list).reshape(-1,1)\n",
    "\n",
    "    elif len(tag_list) < max_:\n",
    "      miss_len = max_ - len(tag_list)  # ← 修正這裡\n",
    "      tag_list = tag_list.reshape(-1).tolist()\n",
    "      tag_list += ['O'] * miss_len\n",
    "      tag_list = np.array(tag_list).reshape(-1, 1)\n",
    "\n",
    "    result = np.concatenate((token_list,tag_list),axis=1)\n",
    "\n",
    "  if isinstance(new_df, pd.core.frame.DataFrame): # 2~N個迴圈\n",
    "    tmp = pd.DataFrame(result, columns=['tokens', 'ner_tags'])\n",
    "    new_df = pd.concat([new_df,tmp], axis=0)\n",
    "  else: # else的區塊只有第一個迴圈會被執行，初始化我的new_df\n",
    "    new_df = pd.DataFrame(result, columns=['tokens', 'ner_tags'])\n",
    "\n",
    "new_df.loc[:, 'tokens'] = new_df.loc[:, 'tokens'].map(lambda x: x.replace('##','') if x[:2]=='##' else x)\n",
    "new_df.loc[:, 'tokens'] = new_df.loc[:, 'tokens'].map(lambda x: x.replace('\\u200b','')) # 不可見編碼\n",
    "new_df = new_df[new_df['tokens']!='miss_string']\n",
    "new_df = new_df.reset_index(drop=True)\n",
    "new_df.head()"
   ]
  },
  {
   "cell_type": "code",
   "execution_count": 28,
   "id": "a4d5e30c",
   "metadata": {},
   "outputs": [
    {
     "data": {
      "text/html": [
       "<div>\n",
       "<style scoped>\n",
       "    .dataframe tbody tr th:only-of-type {\n",
       "        vertical-align: middle;\n",
       "    }\n",
       "\n",
       "    .dataframe tbody tr th {\n",
       "        vertical-align: top;\n",
       "    }\n",
       "\n",
       "    .dataframe thead th {\n",
       "        text-align: right;\n",
       "    }\n",
       "</style>\n",
       "<table border=\"1\" class=\"dataframe\">\n",
       "  <thead>\n",
       "    <tr style=\"text-align: right;\">\n",
       "      <th></th>\n",
       "      <th>tokens</th>\n",
       "      <th>ner_tags</th>\n",
       "    </tr>\n",
       "  </thead>\n",
       "  <tbody>\n",
       "    <tr>\n",
       "      <th>0</th>\n",
       "      <td>Kaspersky B-SecTeam</td>\n",
       "      <td></td>\n",
       "    </tr>\n",
       "    <tr>\n",
       "      <th>1</th>\n",
       "      <td>believes O</td>\n",
       "      <td></td>\n",
       "    </tr>\n",
       "    <tr>\n",
       "      <th>2</th>\n",
       "      <td>both O</td>\n",
       "      <td></td>\n",
       "    </tr>\n",
       "    <tr>\n",
       "      <th>3</th>\n",
       "      <td>Shamoon B-HackOrg</td>\n",
       "      <td></td>\n",
       "    </tr>\n",
       "    <tr>\n",
       "      <th>4</th>\n",
       "      <td>and O</td>\n",
       "      <td></td>\n",
       "    </tr>\n",
       "  </tbody>\n",
       "</table>\n",
       "</div>"
      ],
      "text/plain": [
       "                tokens ner_tags\n",
       "0  Kaspersky B-SecTeam         \n",
       "1           believes O         \n",
       "2               both O         \n",
       "3    Shamoon B-HackOrg         \n",
       "4                and O         "
      ]
     },
     "execution_count": 28,
     "metadata": {},
     "output_type": "execute_result"
    }
   ],
   "source": [
    "with open('test.txt', 'r',encoding='utf-8') as f:\n",
    "  text = f.readlines()\n",
    "  text = [i.rstrip('\\n') for i in text]\n",
    "submit_answer = pd.DataFrame(text)\n",
    "submit_answer.columns = [\"tokens\"]\n",
    "submit_answer['ner_tags'] = [\"\"]*len(submit_answer)\n",
    "submit_answer.loc[:, 'tokens'] = submit_answer.loc[:, 'tokens'].map(lambda x: x.replace('\\u200b',''))\n",
    "submit_answer.head()"
   ]
  },
  {
   "cell_type": "code",
   "execution_count": 29,
   "id": "820e1769",
   "metadata": {},
   "outputs": [
    {
     "data": {
      "text/html": [
       "<div>\n",
       "<style scoped>\n",
       "    .dataframe tbody tr th:only-of-type {\n",
       "        vertical-align: middle;\n",
       "    }\n",
       "\n",
       "    .dataframe tbody tr th {\n",
       "        vertical-align: top;\n",
       "    }\n",
       "\n",
       "    .dataframe thead th {\n",
       "        text-align: right;\n",
       "    }\n",
       "</style>\n",
       "<table border=\"1\" class=\"dataframe\">\n",
       "  <thead>\n",
       "    <tr style=\"text-align: right;\">\n",
       "      <th></th>\n",
       "      <th>tokens</th>\n",
       "      <th>ner_tags</th>\n",
       "    </tr>\n",
       "  </thead>\n",
       "  <tbody>\n",
       "    <tr>\n",
       "      <th>20</th>\n",
       "      <td>might O</td>\n",
       "      <td></td>\n",
       "    </tr>\n",
       "    <tr>\n",
       "      <th>21</th>\n",
       "      <td>also O</td>\n",
       "      <td></td>\n",
       "    </tr>\n",
       "    <tr>\n",
       "      <th>22</th>\n",
       "      <td>indicate O</td>\n",
       "      <td></td>\n",
       "    </tr>\n",
       "    <tr>\n",
       "      <th>23</th>\n",
       "      <td>two O</td>\n",
       "      <td></td>\n",
       "    </tr>\n",
       "    <tr>\n",
       "      <th>24</th>\n",
       "      <td>different O</td>\n",
       "      <td></td>\n",
       "    </tr>\n",
       "    <tr>\n",
       "      <th>...</th>\n",
       "      <td>...</td>\n",
       "      <td>...</td>\n",
       "    </tr>\n",
       "    <tr>\n",
       "      <th>18391</th>\n",
       "      <td>publicly B-Tool</td>\n",
       "      <td></td>\n",
       "    </tr>\n",
       "    <tr>\n",
       "      <th>18392</th>\n",
       "      <td>available I-Tool</td>\n",
       "      <td></td>\n",
       "    </tr>\n",
       "    <tr>\n",
       "      <th>18393</th>\n",
       "      <td>web I-Tool</td>\n",
       "      <td></td>\n",
       "    </tr>\n",
       "    <tr>\n",
       "      <th>18394</th>\n",
       "      <td>shell I-Tool</td>\n",
       "      <td></td>\n",
       "    </tr>\n",
       "    <tr>\n",
       "      <th>18395</th>\n",
       "      <td>. O</td>\n",
       "      <td></td>\n",
       "    </tr>\n",
       "  </tbody>\n",
       "</table>\n",
       "<p>18376 rows × 2 columns</p>\n",
       "</div>"
      ],
      "text/plain": [
       "                 tokens ner_tags\n",
       "20              might O         \n",
       "21               also O         \n",
       "22           indicate O         \n",
       "23                two O         \n",
       "24          different O         \n",
       "...                 ...      ...\n",
       "18391   publicly B-Tool         \n",
       "18392  available I-Tool         \n",
       "18393        web I-Tool         \n",
       "18394      shell I-Tool         \n",
       "18395               . O         \n",
       "\n",
       "[18376 rows x 2 columns]"
      ]
     },
     "execution_count": 29,
     "metadata": {},
     "output_type": "execute_result"
    }
   ],
   "source": [
    "idx = 20\n",
    "submit_answer.loc[idx:33204,:]"
   ]
  },
  {
   "cell_type": "code",
   "execution_count": 30,
   "id": "72af1462",
   "metadata": {},
   "outputs": [
    {
     "data": {
      "text/plain": [
       "tokens      might\n",
       "ner_tags        O\n",
       "Name: 20, dtype: object"
      ]
     },
     "execution_count": 30,
     "metadata": {},
     "output_type": "execute_result"
    }
   ],
   "source": [
    "idx = 20\n",
    "new_df.loc[idx,:]"
   ]
  },
  {
   "cell_type": "code",
   "execution_count": 31,
   "id": "293406cc",
   "metadata": {},
   "outputs": [
    {
     "data": {
      "text/plain": [
       "0        Kaspersky B-SecTeam\n",
       "1                 believes O\n",
       "2                     both O\n",
       "3          Shamoon B-HackOrg\n",
       "4                      and O\n",
       "                ...         \n",
       "18391        publicly B-Tool\n",
       "18392       available I-Tool\n",
       "18393             web I-Tool\n",
       "18394           shell I-Tool\n",
       "18395                    . O\n",
       "Name: tokens, Length: 17733, dtype: object"
      ]
     },
     "execution_count": 31,
     "metadata": {},
     "output_type": "execute_result"
    }
   ],
   "source": [
    "'''\n",
    "最後檢查，確認沒有任何沒填空到的列\n",
    "'''\n",
    "check = submit_answer[submit_answer['ner_tags']== '']\n",
    "check = check[check['tokens']!='']['tokens']\n",
    "# assert len(check)==0 # 如果有沒填空到的，跳出例外\n",
    "check"
   ]
  },
  {
   "cell_type": "code",
   "execution_count": 32,
   "id": "fb83ca2a",
   "metadata": {},
   "outputs": [],
   "source": [
    "'''\n",
    "輸出答案，\n",
    "我發現用pd.to_csv在特殊字元和網址會出錯，這邊簡單寫了一個輸出\n",
    "'''\n",
    "with open(\"answer.txt\", \"w\",encoding='utf-8') as f:\n",
    "  for i in range(len(submit_answer)):\n",
    "    token, tag = submit_answer.loc[i,:]\n",
    "    text = token+'\\t'+tag+'\\n' # 相符於答案格式\n",
    "    f.write(text)"
   ]
  },
  {
   "cell_type": "code",
   "execution_count": 33,
   "id": "a7327697",
   "metadata": {},
   "outputs": [
    {
     "name": "stdout",
     "output_type": "stream",
     "text": [
      "Precision: 0.8446641944787804\n",
      "Recall: 0.8753202391118702\n",
      "F1-score: 0.8597190186621932\n",
      "Accuracy: 0.9609251300610722\n",
      "              precision    recall  f1-score   support\n",
      "\n",
      "        Area       0.85      0.84      0.85       216\n",
      "         Exp       0.99      1.00      1.00       132\n",
      "    Features       0.94      1.00      0.97       116\n",
      "     HackOrg       0.79      0.82      0.81       368\n",
      "        Idus       0.89      0.95      0.92       129\n",
      "      OffAct       0.84      0.83      0.84       150\n",
      "         Org       0.69      0.74      0.71       137\n",
      "        Purp       0.83      1.00      0.91       115\n",
      "     SamFile       0.91      0.89      0.90       248\n",
      "     SecTeam       0.88      0.89      0.88       152\n",
      "        Time       0.92      0.93      0.93       169\n",
      "        Tool       0.74      0.78      0.76       312\n",
      "         Way       0.92      0.99      0.96        98\n",
      "\n",
      "   micro avg       0.84      0.88      0.86      2342\n",
      "   macro avg       0.86      0.90      0.88      2342\n",
      "weighted avg       0.85      0.88      0.86      2342\n",
      "\n"
     ]
    }
   ],
   "source": [
    "# 來自模型預測的標籤（去掉特殊符號）\n",
    "true_predictions = [\n",
    "    [label_names[p] for (p, l) in zip(pred, lab) if l != -100]\n",
    "    for pred, lab in zip(predictions, labels)\n",
    "]\n",
    "\n",
    "true_labels = [\n",
    "    [label_names[l] for (p, l) in zip(pred, lab) if l != -100]\n",
    "    for pred, lab in zip(predictions, labels)\n",
    "]\n",
    "from seqeval.metrics import classification_report, accuracy_score, precision_score, recall_score, f1_score\n",
    "\n",
    "# 印出整體數值\n",
    "print(\"Precision:\", precision_score(true_labels, true_predictions))\n",
    "print(\"Recall:\", recall_score(true_labels, true_predictions))\n",
    "print(\"F1-score:\", f1_score(true_labels, true_predictions))\n",
    "print(\"Accuracy:\", accuracy_score(true_labels, true_predictions))\n",
    "\n",
    "# 印出各類別報告\n",
    "print(classification_report(true_labels, true_predictions))\n",
    "\n",
    "\n"
   ]
  },
  {
   "cell_type": "code",
   "execution_count": 34,
   "id": "577404c3",
   "metadata": {},
   "outputs": [
    {
     "name": "stdout",
     "output_type": "stream",
     "text": [
      "              precision    recall  f1-score   support\n",
      "\n",
      "           O       0.99      0.98      0.98     14093\n",
      "          In       0.00      0.00      0.00         0\n",
      "          It       0.00      0.00      0.00         0\n",
      "   B-HackOrg       0.84      0.85      0.84       368\n",
      "   I-HackOrg       0.76      0.78      0.77       133\n",
      "    B-OffAct       0.88      0.85      0.86       150\n",
      "    I-OffAct       0.89      0.79      0.84        91\n",
      "   B-SamFile       0.92      0.90      0.91       248\n",
      "   I-SamFile       0.93      0.93      0.93        95\n",
      "   B-SecTeam       0.94      0.95      0.94       152\n",
      "   I-SecTeam       0.77      0.91      0.84        56\n",
      "      B-Time       0.93      0.94      0.94       167\n",
      "      I-Time       0.92      0.97      0.95       101\n",
      "       B-Org       0.75      0.75      0.75       137\n",
      "       I-Org       0.73      0.82      0.78       101\n",
      "      B-Purp       0.85      1.00      0.92       115\n",
      "      I-Purp       0.86      1.00      0.92       145\n",
      "       B-Exp       0.99      1.00      1.00       132\n",
      "       I-Exp       1.00      1.00      1.00        49\n",
      "      B-Idus       0.90      0.96      0.93       127\n",
      "      I-Idus       0.86      1.00      0.93        38\n",
      "      B-Area       0.90      0.88      0.89       216\n",
      "      I-Area       0.74      0.88      0.81        52\n",
      "       B-Way       0.94      1.00      0.97        98\n",
      "       I-Way       0.93      1.00      0.96        88\n",
      "  B-Features       0.94      1.00      0.97       116\n",
      "  I-Features       0.95      1.00      0.97       151\n",
      "      B-Tool       0.78      0.80      0.79       312\n",
      "      I-Tool       0.77      0.76      0.76       153\n",
      "\n",
      "    accuracy                           0.96     17684\n",
      "   macro avg       0.82      0.85      0.83     17684\n",
      "weighted avg       0.96      0.96      0.96     17684\n",
      "\n"
     ]
    },
    {
     "name": "stderr",
     "output_type": "stream",
     "text": [
      "c:\\Users\\user\\AppData\\Local\\Programs\\Python\\Python312\\Lib\\site-packages\\sklearn\\metrics\\_classification.py:1531: UndefinedMetricWarning: Precision is ill-defined and being set to 0.0 in labels with no predicted samples. Use `zero_division` parameter to control this behavior.\n",
      "  _warn_prf(average, modifier, f\"{metric.capitalize()} is\", len(result))\n",
      "c:\\Users\\user\\AppData\\Local\\Programs\\Python\\Python312\\Lib\\site-packages\\sklearn\\metrics\\_classification.py:1531: UndefinedMetricWarning: Recall is ill-defined and being set to 0.0 in labels with no true samples. Use `zero_division` parameter to control this behavior.\n",
      "  _warn_prf(average, modifier, f\"{metric.capitalize()} is\", len(result))\n",
      "c:\\Users\\user\\AppData\\Local\\Programs\\Python\\Python312\\Lib\\site-packages\\sklearn\\metrics\\_classification.py:1531: UndefinedMetricWarning: F-score is ill-defined and being set to 0.0 in labels with no true nor predicted samples. Use `zero_division` parameter to control this behavior.\n",
      "  _warn_prf(average, modifier, f\"{metric.capitalize()} is\", len(result))\n",
      "c:\\Users\\user\\AppData\\Local\\Programs\\Python\\Python312\\Lib\\site-packages\\sklearn\\metrics\\_classification.py:1531: UndefinedMetricWarning: Precision is ill-defined and being set to 0.0 in labels with no predicted samples. Use `zero_division` parameter to control this behavior.\n",
      "  _warn_prf(average, modifier, f\"{metric.capitalize()} is\", len(result))\n",
      "c:\\Users\\user\\AppData\\Local\\Programs\\Python\\Python312\\Lib\\site-packages\\sklearn\\metrics\\_classification.py:1531: UndefinedMetricWarning: Recall is ill-defined and being set to 0.0 in labels with no true samples. Use `zero_division` parameter to control this behavior.\n",
      "  _warn_prf(average, modifier, f\"{metric.capitalize()} is\", len(result))\n",
      "c:\\Users\\user\\AppData\\Local\\Programs\\Python\\Python312\\Lib\\site-packages\\sklearn\\metrics\\_classification.py:1531: UndefinedMetricWarning: F-score is ill-defined and being set to 0.0 in labels with no true nor predicted samples. Use `zero_division` parameter to control this behavior.\n",
      "  _warn_prf(average, modifier, f\"{metric.capitalize()} is\", len(result))\n",
      "c:\\Users\\user\\AppData\\Local\\Programs\\Python\\Python312\\Lib\\site-packages\\sklearn\\metrics\\_classification.py:1531: UndefinedMetricWarning: Precision is ill-defined and being set to 0.0 in labels with no predicted samples. Use `zero_division` parameter to control this behavior.\n",
      "  _warn_prf(average, modifier, f\"{metric.capitalize()} is\", len(result))\n",
      "c:\\Users\\user\\AppData\\Local\\Programs\\Python\\Python312\\Lib\\site-packages\\sklearn\\metrics\\_classification.py:1531: UndefinedMetricWarning: Recall is ill-defined and being set to 0.0 in labels with no true samples. Use `zero_division` parameter to control this behavior.\n",
      "  _warn_prf(average, modifier, f\"{metric.capitalize()} is\", len(result))\n",
      "c:\\Users\\user\\AppData\\Local\\Programs\\Python\\Python312\\Lib\\site-packages\\sklearn\\metrics\\_classification.py:1531: UndefinedMetricWarning: F-score is ill-defined and being set to 0.0 in labels with no true nor predicted samples. Use `zero_division` parameter to control this behavior.\n",
      "  _warn_prf(average, modifier, f\"{metric.capitalize()} is\", len(result))\n"
     ]
    }
   ],
   "source": [
    "from sklearn.metrics import classification_report\n",
    "\n",
    "# Flatten the nested lists\n",
    "flat_true = [tag for seq in true_labels for tag in seq]\n",
    "flat_pred = [tag for seq in true_predictions for tag in seq]\n",
    "\n",
    "print(classification_report(flat_true, flat_pred, labels=tag_name))\n"
   ]
  },
  {
   "cell_type": "code",
   "execution_count": 35,
   "id": "7540bd93",
   "metadata": {},
   "outputs": [
    {
     "data": {
      "image/png": "[encoded data removed]",
      "text/plain": [
       "<Figure size 1400x500 with 2 Axes>"
      ]
     },
     "metadata": {},
     "output_type": "display_data"
    }
   ],
   "source": [
    "import matplotlib.pyplot as plt\n",
    "\n",
    "logs = trainer.state.log_history\n",
    "\n",
    "train_loss = []\n",
    "train_epochs = []\n",
    "eval_loss = []\n",
    "eval_accuracy = []\n",
    "eval_epochs = []\n",
    "\n",
    "for entry in logs:\n",
    "    if \"loss\" in entry and \"epoch\" in entry:\n",
    "        train_loss.append(entry[\"loss\"])\n",
    "        train_epochs.append(entry[\"epoch\"])\n",
    "    if \"eval_loss\" in entry and \"epoch\" in entry:\n",
    "        eval_loss.append(entry[\"eval_loss\"])\n",
    "        eval_epochs.append(entry[\"epoch\"])\n",
    "    if \"eval_accuracy\" in entry and \"epoch\" in entry:\n",
    "        eval_accuracy.append(entry[\"eval_accuracy\"])\n",
    "\n",
    "plt.figure(figsize=(14, 5))\n",
    "\n",
    "# Loss plot\n",
    "plt.subplot(1, 2, 1)\n",
    "plt.plot(train_epochs, train_loss, label=\"Train Loss\", marker='o')\n",
    "plt.plot(eval_epochs, eval_loss, label=\"Val Loss\", marker='x')\n",
    "plt.xlabel(\"Epoch\")\n",
    "plt.ylabel(\"Loss\")\n",
    "plt.legend()\n",
    "plt.title(\"Training and Validation Loss (per Epoch)\")\n",
    "\n",
    "# Accuracy plot\n",
    "plt.subplot(1, 2, 2)\n",
    "plt.plot(eval_epochs, eval_accuracy, label=\"Val Accuracy\", color=\"green\", marker='s')\n",
    "plt.xlabel(\"Epoch\")\n",
    "plt.ylabel(\"Accuracy\")\n",
    "plt.legend()\n",
    "plt.title(\"Validation Accuracy (per Epoch)\")\n",
    "\n",
    "plt.tight_layout()\n",
    "plt.show()\n"
   ]
  }
 ],
 "metadata": {
  "kernelspec": {
   "display_name": "Python 3",
   "language": "python",
   "name": "python3"
  },
  "language_info": {
   "codemirror_mode": {
    "name": "ipython",
    "version": 3
   },
   "file_extension": ".py",
   "mimetype": "text/x-python",
   "name": "python",
   "nbconvert_exporter": "python",
   "pygments_lexer": "ipython3",
   "version": "3.12.5"
  }
 },
 "nbformat": 4,
 "nbformat_minor": 5
}
